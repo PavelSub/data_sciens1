{
 "cells": [
  {
   "cell_type": "markdown",
   "metadata": {},
   "source": [
    "# Moduls"
   ]
  },
  {
   "cell_type": "code",
   "execution_count": 82,
   "metadata": {},
   "outputs": [],
   "source": [
    "import numpy as np\n",
    "import pandas as pd\n",
    "from sklearn.model_selection import train_test_split\n",
    "from sklearn.ensemble import RandomForestRegressor as RF\n",
    "from sklearn.metrics import r2_score as r2\n",
    "import warnings\n",
    "\n",
    "warnings.filterwarnings('ignore')\n",
    "pd.options.display.max_columns = 100"
   ]
  },
  {
   "cell_type": "code",
   "execution_count": 83,
   "metadata": {},
   "outputs": [],
   "source": [
    "data = pd.read_csv('D:\\Kurs_project_task/train.csv')"
   ]
  },
  {
   "cell_type": "code",
   "execution_count": 84,
   "metadata": {},
   "outputs": [],
   "source": [
    "# data.shape"
   ]
  },
  {
   "cell_type": "code",
   "execution_count": 85,
   "metadata": {},
   "outputs": [
    {
     "data": {
      "text/html": [
       "<div>\n",
       "<style scoped>\n",
       "    .dataframe tbody tr th:only-of-type {\n",
       "        vertical-align: middle;\n",
       "    }\n",
       "\n",
       "    .dataframe tbody tr th {\n",
       "        vertical-align: top;\n",
       "    }\n",
       "\n",
       "    .dataframe thead th {\n",
       "        text-align: right;\n",
       "    }\n",
       "</style>\n",
       "<table border=\"1\" class=\"dataframe\">\n",
       "  <thead>\n",
       "    <tr style=\"text-align: right;\">\n",
       "      <th></th>\n",
       "      <th>Id</th>\n",
       "      <th>DistrictId</th>\n",
       "      <th>Rooms</th>\n",
       "      <th>Square</th>\n",
       "      <th>LifeSquare</th>\n",
       "      <th>KitchenSquare</th>\n",
       "      <th>Floor</th>\n",
       "      <th>HouseFloor</th>\n",
       "      <th>HouseYear</th>\n",
       "      <th>Ecology_1</th>\n",
       "      <th>Ecology_2</th>\n",
       "      <th>Ecology_3</th>\n",
       "      <th>Social_1</th>\n",
       "      <th>Social_2</th>\n",
       "      <th>Social_3</th>\n",
       "      <th>Healthcare_1</th>\n",
       "      <th>Helthcare_2</th>\n",
       "      <th>Shops_1</th>\n",
       "      <th>Shops_2</th>\n",
       "      <th>Price</th>\n",
       "    </tr>\n",
       "  </thead>\n",
       "  <tbody>\n",
       "    <tr>\n",
       "      <th>0</th>\n",
       "      <td>14038</td>\n",
       "      <td>35</td>\n",
       "      <td>2.0</td>\n",
       "      <td>47.981561</td>\n",
       "      <td>29.442751</td>\n",
       "      <td>6.0</td>\n",
       "      <td>7</td>\n",
       "      <td>9.0</td>\n",
       "      <td>1969</td>\n",
       "      <td>0.089040</td>\n",
       "      <td>B</td>\n",
       "      <td>B</td>\n",
       "      <td>33</td>\n",
       "      <td>7976</td>\n",
       "      <td>5</td>\n",
       "      <td>NaN</td>\n",
       "      <td>0</td>\n",
       "      <td>11</td>\n",
       "      <td>B</td>\n",
       "      <td>184966.930730</td>\n",
       "    </tr>\n",
       "    <tr>\n",
       "      <th>1</th>\n",
       "      <td>15053</td>\n",
       "      <td>41</td>\n",
       "      <td>3.0</td>\n",
       "      <td>65.683640</td>\n",
       "      <td>40.049543</td>\n",
       "      <td>8.0</td>\n",
       "      <td>7</td>\n",
       "      <td>9.0</td>\n",
       "      <td>1978</td>\n",
       "      <td>0.000070</td>\n",
       "      <td>B</td>\n",
       "      <td>B</td>\n",
       "      <td>46</td>\n",
       "      <td>10309</td>\n",
       "      <td>1</td>\n",
       "      <td>240.0</td>\n",
       "      <td>1</td>\n",
       "      <td>16</td>\n",
       "      <td>B</td>\n",
       "      <td>300009.450063</td>\n",
       "    </tr>\n",
       "    <tr>\n",
       "      <th>2</th>\n",
       "      <td>4765</td>\n",
       "      <td>53</td>\n",
       "      <td>2.0</td>\n",
       "      <td>44.947953</td>\n",
       "      <td>29.197612</td>\n",
       "      <td>0.0</td>\n",
       "      <td>8</td>\n",
       "      <td>12.0</td>\n",
       "      <td>1968</td>\n",
       "      <td>0.049637</td>\n",
       "      <td>B</td>\n",
       "      <td>B</td>\n",
       "      <td>34</td>\n",
       "      <td>7759</td>\n",
       "      <td>0</td>\n",
       "      <td>229.0</td>\n",
       "      <td>1</td>\n",
       "      <td>3</td>\n",
       "      <td>B</td>\n",
       "      <td>220925.908524</td>\n",
       "    </tr>\n",
       "    <tr>\n",
       "      <th>3</th>\n",
       "      <td>5809</td>\n",
       "      <td>58</td>\n",
       "      <td>2.0</td>\n",
       "      <td>53.352981</td>\n",
       "      <td>52.731512</td>\n",
       "      <td>9.0</td>\n",
       "      <td>8</td>\n",
       "      <td>17.0</td>\n",
       "      <td>1977</td>\n",
       "      <td>0.437885</td>\n",
       "      <td>B</td>\n",
       "      <td>B</td>\n",
       "      <td>23</td>\n",
       "      <td>5735</td>\n",
       "      <td>3</td>\n",
       "      <td>1084.0</td>\n",
       "      <td>0</td>\n",
       "      <td>5</td>\n",
       "      <td>B</td>\n",
       "      <td>175616.227217</td>\n",
       "    </tr>\n",
       "    <tr>\n",
       "      <th>4</th>\n",
       "      <td>10783</td>\n",
       "      <td>99</td>\n",
       "      <td>1.0</td>\n",
       "      <td>39.649192</td>\n",
       "      <td>23.776169</td>\n",
       "      <td>7.0</td>\n",
       "      <td>11</td>\n",
       "      <td>12.0</td>\n",
       "      <td>1976</td>\n",
       "      <td>0.012339</td>\n",
       "      <td>B</td>\n",
       "      <td>B</td>\n",
       "      <td>35</td>\n",
       "      <td>5776</td>\n",
       "      <td>1</td>\n",
       "      <td>2078.0</td>\n",
       "      <td>2</td>\n",
       "      <td>4</td>\n",
       "      <td>B</td>\n",
       "      <td>150226.531644</td>\n",
       "    </tr>\n",
       "  </tbody>\n",
       "</table>\n",
       "</div>"
      ],
      "text/plain": [
       "      Id  DistrictId  Rooms     Square  LifeSquare  KitchenSquare  Floor  \\\n",
       "0  14038          35    2.0  47.981561   29.442751            6.0      7   \n",
       "1  15053          41    3.0  65.683640   40.049543            8.0      7   \n",
       "2   4765          53    2.0  44.947953   29.197612            0.0      8   \n",
       "3   5809          58    2.0  53.352981   52.731512            9.0      8   \n",
       "4  10783          99    1.0  39.649192   23.776169            7.0     11   \n",
       "\n",
       "   HouseFloor  HouseYear  Ecology_1 Ecology_2 Ecology_3  Social_1  Social_2  \\\n",
       "0         9.0       1969   0.089040         B         B        33      7976   \n",
       "1         9.0       1978   0.000070         B         B        46     10309   \n",
       "2        12.0       1968   0.049637         B         B        34      7759   \n",
       "3        17.0       1977   0.437885         B         B        23      5735   \n",
       "4        12.0       1976   0.012339         B         B        35      5776   \n",
       "\n",
       "   Social_3  Healthcare_1  Helthcare_2  Shops_1 Shops_2          Price  \n",
       "0         5           NaN            0       11       B  184966.930730  \n",
       "1         1         240.0            1       16       B  300009.450063  \n",
       "2         0         229.0            1        3       B  220925.908524  \n",
       "3         3        1084.0            0        5       B  175616.227217  \n",
       "4         1        2078.0            2        4       B  150226.531644  "
      ]
     },
     "execution_count": 85,
     "metadata": {},
     "output_type": "execute_result"
    }
   ],
   "source": [
    "data.head()"
   ]
  },
  {
   "cell_type": "markdown",
   "metadata": {},
   "source": [
    "### train_test_split"
   ]
  },
  {
   "cell_type": "code",
   "execution_count": 86,
   "metadata": {},
   "outputs": [],
   "source": [
    "train, valid = train_test_split(data, test_size=0.3, random_state=42)"
   ]
  },
  {
   "cell_type": "code",
   "execution_count": 87,
   "metadata": {},
   "outputs": [],
   "source": [
    "# train.shape, valid.shape"
   ]
  },
  {
   "cell_type": "markdown",
   "metadata": {},
   "source": [
    "# Prepare train data"
   ]
  },
  {
   "cell_type": "code",
   "execution_count": 88,
   "metadata": {},
   "outputs": [],
   "source": [
    "distr_info1 = train['DistrictId'].value_counts(normalize=True).reset_index().rename(columns={'index':'DistrictId', \n",
    "                                                                               'DistrictId':'flat_qty_distr'})"
   ]
  },
  {
   "cell_type": "code",
   "execution_count": 89,
   "metadata": {},
   "outputs": [],
   "source": [
    "distr_stat_dr = train.groupby(['DistrictId', 'Rooms'], as_index=False)[['Price']].mean().\\\n",
    "    rename(columns={'Price':'mean_price_dr'})  \n",
    "distr_stat_r = train.groupby(['Rooms'], as_index=False)[['Price']].mean().rename(columns={'Price':'mean_price_r'})\n",
    "\n",
    "mean_price = train['Price'].mean()"
   ]
  },
  {
   "cell_type": "code",
   "execution_count": 90,
   "metadata": {},
   "outputs": [],
   "source": [
    "#Заполняем пустую жилую площадь\n",
    "train['LifeSquare'] = train['LifeSquare'].fillna(train['Square'])\n",
    "#Заполняем площадь если общая меньше жилой\n",
    "train.loc[(train['Square'] < train['LifeSquare']), 'LifeSquare'] = train['LifeSquare']\n",
    "train['Diff_square'] = train['Square'] - train['LifeSquare']\n",
    "mean_square = train.loc[(train['Diff_square'] > 4)].groupby('Rooms', as_index=False)[['Square','LifeSquare', 'Diff_square']].mean().rename(columns={'Square': 'Mean_square','LifeSquare': 'Mean_LifeSquare','Diff_square': 'Mean_Diff_square'})\n",
    "mean_sqr = mean_square.loc[(mean_square['Rooms'] != 0) & (mean_square['Rooms'] < 6)].sort_values(by='Rooms')\n"
   ]
  },
  {
   "cell_type": "code",
   "execution_count": 91,
   "metadata": {},
   "outputs": [],
   "source": [
    "def add_district_info1(df, distr_info1):\n",
    "    df = pd.merge(df, distr_info1, on='DistrictId', how='left')\n",
    "    df['flat_qty_distr'] = df['flat_qty_distr'].fillna(0.000143)\n",
    "    return df"
   ]
  },
  {
   "cell_type": "code",
   "execution_count": 92,
   "metadata": {},
   "outputs": [],
   "source": [
    "def add_stats(df, distr_stat_dr, distr_stat_r, mean_price):\n",
    "    df = pd.merge(df, distr_stat_dr, on=['DistrictId', 'Rooms'], how='left')\n",
    "    df = pd.merge(df, distr_stat_r, on='Rooms', how='left')\n",
    "    \n",
    "    df['mean_price_r'] = df['mean_price_r'].fillna(mean_price)\n",
    "    df['mean_price_dr'] = df['mean_price_dr'].fillna(df['mean_price_r'])\n",
    "    return df"
   ]
  },
  {
   "cell_type": "code",
   "execution_count": 93,
   "metadata": {},
   "outputs": [],
   "source": [
    "def add_cat_fts(df, cat_fts=('Ecology_2', 'Ecology_3', 'Shops_2')):\n",
    "    for col in cat_fts:\n",
    "        df[col] = (df[col] == 'B').astype(int)\n",
    "    return df"
   ]
  },
  {
   "cell_type": "code",
   "execution_count": 94,
   "metadata": {},
   "outputs": [],
   "source": [
    "# def fillna_healthcare_1(df):\n",
    "#     df['Healthcare_1'] = df['Healthcare_1'].fillna(0)\n",
    "#     return df"
   ]
  },
  {
   "cell_type": "code",
   "execution_count": 95,
   "metadata": {},
   "outputs": [],
   "source": [
    "def drop_columns(df, col):\n",
    "    return df.drop(col, axis=1)"
   ]
  },
  {
   "cell_type": "code",
   "execution_count": 96,
   "metadata": {},
   "outputs": [],
   "source": [
    "def house_period_type(df):\n",
    "#     df['HouseYearType'] = 0\n",
    "    df.loc[(df['HouseYear'] < 1990), 'HouseYearType'] = 0    \n",
    "    df.loc[(df['HouseYear'] >= 1990) & (df['HouseYear'] < 2000), 'HouseYearType'] = 1\n",
    "    df.loc[(df['HouseYear'] >= 2000) & (df['HouseYear'] < 2018), 'HouseYearType'] = 2\n",
    "    df.loc[(df['HouseYear'] >= 2018), 'HouseYearType'] = 3  \n",
    "    return df"
   ]
  },
  {
   "cell_type": "code",
   "execution_count": 97,
   "metadata": {},
   "outputs": [],
   "source": [
    "def flat_floor_type(df):\n",
    "#     df['FlatFloorType'] = 0\n",
    "    df.loc[(df['Floor'] <= 2), 'FlatFloorType'] = 0    \n",
    "    df.loc[(df['Floor'] > 2) & (df['Floor'] <= 9), 'FlatFloorType'] = 1\n",
    "    df.loc[(df['Floor'] > 9), 'FlatFloorType'] = 2  \n",
    "    return df"
   ]
  },
  {
   "cell_type": "code",
   "execution_count": 98,
   "metadata": {},
   "outputs": [],
   "source": [
    "def bilding_floor_type(df):\n",
    "#     df['FloorType'] = 0\n",
    "    df.loc[df['HouseFloor'] <= 5, 'FloorType'] = 0    \n",
    "    df.loc[(df['HouseFloor'] > 5) & (df['HouseFloor'] <= 9), 'FloorType'] = 1\n",
    "    df.loc[(df['HouseFloor'] > 9) & (df['HouseFloor'] <= 17), 'FloorType'] = 2\n",
    "    df.loc[df['HouseFloor'] > 17, 'FloorType'] = 3\n",
    "    return df"
   ]
  },
  {
   "cell_type": "code",
   "execution_count": 99,
   "metadata": {},
   "outputs": [],
   "source": [
    "def fill_life_square(df):\n",
    "    #Заполняем пустую жилую площадь\n",
    "    df['Square'] = df['Square'].fillna(df['Mean_square'])\n",
    "    df['LifeSquare'] = df['LifeSquare'].fillna(df['Square'])\n",
    "    #Заполняем площадь если общая меньше жилой\n",
    "    df.loc[(df['Square'] < df['LifeSquare']), 'LifeSquare'] = df['LifeSquare']\n",
    "    "
   ]
  },
  {
   "cell_type": "code",
   "execution_count": 100,
   "metadata": {},
   "outputs": [],
   "source": [
    "def fillrooms_bysize(df, m_square):\n",
    "    for idx, row in df.loc[(df['Rooms'] > 5) | (df['Rooms'] < 1)].iterrows():\n",
    "        min_m = m_square.loc[m_square['Mean_square'] < row['Square'], 'Rooms']\n",
    "        if len(min_m.index) == 0:\n",
    "            df.loc[df['Id'] == row['Id'], 'Rooms'] = m_square.iloc[0,0]\n",
    "        else:\n",
    "            df.loc[data['Id'] == row['Id'], 'Rooms'] = min_m.index[-1]\n",
    "\n",
    "    df = pd.merge(df, m_square, on='Rooms', how='left')\n",
    "    return df"
   ]
  },
  {
   "cell_type": "code",
   "execution_count": 101,
   "metadata": {},
   "outputs": [],
   "source": [
    "def prepare_data(df, distr_info1, distr_stat_dr, distr_stat_r, mean_price, mean_square):\n",
    "# def prepare_data(df, distr_info1, distr_stat_dr, distr_stat_r, mean_price):\n",
    "    df = fillrooms_bysize(df, mean_square)\n",
    "    df = house_period_type(df)\n",
    "    df = flat_floor_type(df)\n",
    "    df = bilding_floor_type(df)\n",
    "    df = drop_columns(df, ['Healthcare_1'])\n",
    "#     df = fill_life_square(df)\n",
    "    \n",
    "    df = add_district_info1(df, distr_info1)\n",
    "    df = add_stats(df, distr_stat_dr, distr_stat_r, mean_price)\n",
    "    df = add_cat_fts(df)\n",
    "\n",
    "    return df"
   ]
  },
  {
   "cell_type": "code",
   "execution_count": 102,
   "metadata": {},
   "outputs": [],
   "source": [
    "train.info\n",
    "train = prepare_data(train, distr_info1, distr_stat_dr, distr_stat_r, mean_price, mean_sqr)\n",
    "# train = prepare_data(train, distr_info1, distr_stat_dr, distr_stat_r, mean_price)"
   ]
  },
  {
   "cell_type": "code",
   "execution_count": 103,
   "metadata": {},
   "outputs": [
    {
     "data": {
      "text/html": [
       "<div>\n",
       "<style scoped>\n",
       "    .dataframe tbody tr th:only-of-type {\n",
       "        vertical-align: middle;\n",
       "    }\n",
       "\n",
       "    .dataframe tbody tr th {\n",
       "        vertical-align: top;\n",
       "    }\n",
       "\n",
       "    .dataframe thead th {\n",
       "        text-align: right;\n",
       "    }\n",
       "</style>\n",
       "<table border=\"1\" class=\"dataframe\">\n",
       "  <thead>\n",
       "    <tr style=\"text-align: right;\">\n",
       "      <th></th>\n",
       "      <th>Id</th>\n",
       "      <th>DistrictId</th>\n",
       "      <th>Rooms</th>\n",
       "      <th>Square</th>\n",
       "      <th>LifeSquare</th>\n",
       "      <th>KitchenSquare</th>\n",
       "      <th>Floor</th>\n",
       "      <th>HouseFloor</th>\n",
       "      <th>HouseYear</th>\n",
       "      <th>Ecology_1</th>\n",
       "      <th>Ecology_2</th>\n",
       "      <th>Ecology_3</th>\n",
       "      <th>Social_1</th>\n",
       "      <th>Social_2</th>\n",
       "      <th>Social_3</th>\n",
       "      <th>Helthcare_2</th>\n",
       "      <th>Shops_1</th>\n",
       "      <th>Shops_2</th>\n",
       "      <th>Price</th>\n",
       "      <th>Diff_square</th>\n",
       "      <th>Mean_square</th>\n",
       "      <th>Mean_LifeSquare</th>\n",
       "      <th>Mean_Diff_square</th>\n",
       "      <th>HouseYearType</th>\n",
       "      <th>FlatFloorType</th>\n",
       "      <th>FloorType</th>\n",
       "      <th>flat_qty_distr</th>\n",
       "      <th>mean_price_dr</th>\n",
       "      <th>mean_price_r</th>\n",
       "    </tr>\n",
       "  </thead>\n",
       "  <tbody>\n",
       "    <tr>\n",
       "      <th>0</th>\n",
       "      <td>14604</td>\n",
       "      <td>23</td>\n",
       "      <td>1.0</td>\n",
       "      <td>41.681380</td>\n",
       "      <td>22.796166</td>\n",
       "      <td>8.0</td>\n",
       "      <td>14</td>\n",
       "      <td>17.0</td>\n",
       "      <td>2015</td>\n",
       "      <td>0.075779</td>\n",
       "      <td>1</td>\n",
       "      <td>1</td>\n",
       "      <td>6</td>\n",
       "      <td>1437</td>\n",
       "      <td>3</td>\n",
       "      <td>0</td>\n",
       "      <td>2</td>\n",
       "      <td>1</td>\n",
       "      <td>88504.384965</td>\n",
       "      <td>18.885214</td>\n",
       "      <td>39.768384</td>\n",
       "      <td>21.272841</td>\n",
       "      <td>18.495543</td>\n",
       "      <td>2.0</td>\n",
       "      <td>2.0</td>\n",
       "      <td>2.0</td>\n",
       "      <td>0.056286</td>\n",
       "      <td>102427.030975</td>\n",
       "      <td>160134.810901</td>\n",
       "    </tr>\n",
       "    <tr>\n",
       "      <th>1</th>\n",
       "      <td>5621</td>\n",
       "      <td>23</td>\n",
       "      <td>3.0</td>\n",
       "      <td>163.495333</td>\n",
       "      <td>161.504222</td>\n",
       "      <td>12.0</td>\n",
       "      <td>5</td>\n",
       "      <td>3.0</td>\n",
       "      <td>1977</td>\n",
       "      <td>0.014073</td>\n",
       "      <td>1</td>\n",
       "      <td>1</td>\n",
       "      <td>2</td>\n",
       "      <td>475</td>\n",
       "      <td>0</td>\n",
       "      <td>0</td>\n",
       "      <td>0</td>\n",
       "      <td>1</td>\n",
       "      <td>207007.956663</td>\n",
       "      <td>1.991111</td>\n",
       "      <td>74.017092</td>\n",
       "      <td>46.373920</td>\n",
       "      <td>27.643172</td>\n",
       "      <td>0.0</td>\n",
       "      <td>1.0</td>\n",
       "      <td>0.0</td>\n",
       "      <td>0.056286</td>\n",
       "      <td>165911.129700</td>\n",
       "      <td>290867.452543</td>\n",
       "    </tr>\n",
       "    <tr>\n",
       "      <th>2</th>\n",
       "      <td>235</td>\n",
       "      <td>87</td>\n",
       "      <td>1.0</td>\n",
       "      <td>39.710131</td>\n",
       "      <td>19.538663</td>\n",
       "      <td>8.0</td>\n",
       "      <td>4</td>\n",
       "      <td>17.0</td>\n",
       "      <td>1986</td>\n",
       "      <td>0.100456</td>\n",
       "      <td>1</td>\n",
       "      <td>1</td>\n",
       "      <td>43</td>\n",
       "      <td>7227</td>\n",
       "      <td>0</td>\n",
       "      <td>1</td>\n",
       "      <td>6</td>\n",
       "      <td>0</td>\n",
       "      <td>182126.280899</td>\n",
       "      <td>20.171468</td>\n",
       "      <td>39.768384</td>\n",
       "      <td>21.272841</td>\n",
       "      <td>18.495543</td>\n",
       "      <td>0.0</td>\n",
       "      <td>1.0</td>\n",
       "      <td>2.0</td>\n",
       "      <td>0.003000</td>\n",
       "      <td>169596.630515</td>\n",
       "      <td>160134.810901</td>\n",
       "    </tr>\n",
       "    <tr>\n",
       "      <th>3</th>\n",
       "      <td>16258</td>\n",
       "      <td>48</td>\n",
       "      <td>3.0</td>\n",
       "      <td>96.056784</td>\n",
       "      <td>98.152802</td>\n",
       "      <td>1.0</td>\n",
       "      <td>15</td>\n",
       "      <td>1.0</td>\n",
       "      <td>2017</td>\n",
       "      <td>0.041125</td>\n",
       "      <td>1</td>\n",
       "      <td>1</td>\n",
       "      <td>46</td>\n",
       "      <td>9515</td>\n",
       "      <td>5</td>\n",
       "      <td>1</td>\n",
       "      <td>10</td>\n",
       "      <td>1</td>\n",
       "      <td>524365.550705</td>\n",
       "      <td>-2.096018</td>\n",
       "      <td>74.017092</td>\n",
       "      <td>46.373920</td>\n",
       "      <td>27.643172</td>\n",
       "      <td>2.0</td>\n",
       "      <td>2.0</td>\n",
       "      <td>0.0</td>\n",
       "      <td>0.008857</td>\n",
       "      <td>382424.639356</td>\n",
       "      <td>290867.452543</td>\n",
       "    </tr>\n",
       "    <tr>\n",
       "      <th>4</th>\n",
       "      <td>10773</td>\n",
       "      <td>77</td>\n",
       "      <td>3.0</td>\n",
       "      <td>79.195825</td>\n",
       "      <td>44.421062</td>\n",
       "      <td>10.0</td>\n",
       "      <td>16</td>\n",
       "      <td>17.0</td>\n",
       "      <td>1984</td>\n",
       "      <td>0.298205</td>\n",
       "      <td>1</td>\n",
       "      <td>1</td>\n",
       "      <td>16</td>\n",
       "      <td>4048</td>\n",
       "      <td>3</td>\n",
       "      <td>1</td>\n",
       "      <td>3</td>\n",
       "      <td>1</td>\n",
       "      <td>322048.433990</td>\n",
       "      <td>34.774763</td>\n",
       "      <td>74.017092</td>\n",
       "      <td>46.373920</td>\n",
       "      <td>27.643172</td>\n",
       "      <td>0.0</td>\n",
       "      <td>2.0</td>\n",
       "      <td>2.0</td>\n",
       "      <td>0.004000</td>\n",
       "      <td>251751.766701</td>\n",
       "      <td>290867.452543</td>\n",
       "    </tr>\n",
       "  </tbody>\n",
       "</table>\n",
       "</div>"
      ],
      "text/plain": [
       "      Id  DistrictId  Rooms      Square  LifeSquare  KitchenSquare  Floor  \\\n",
       "0  14604          23    1.0   41.681380   22.796166            8.0     14   \n",
       "1   5621          23    3.0  163.495333  161.504222           12.0      5   \n",
       "2    235          87    1.0   39.710131   19.538663            8.0      4   \n",
       "3  16258          48    3.0   96.056784   98.152802            1.0     15   \n",
       "4  10773          77    3.0   79.195825   44.421062           10.0     16   \n",
       "\n",
       "   HouseFloor  HouseYear  Ecology_1  Ecology_2  Ecology_3  Social_1  Social_2  \\\n",
       "0        17.0       2015   0.075779          1          1         6      1437   \n",
       "1         3.0       1977   0.014073          1          1         2       475   \n",
       "2        17.0       1986   0.100456          1          1        43      7227   \n",
       "3         1.0       2017   0.041125          1          1        46      9515   \n",
       "4        17.0       1984   0.298205          1          1        16      4048   \n",
       "\n",
       "   Social_3  Helthcare_2  Shops_1  Shops_2          Price  Diff_square  \\\n",
       "0         3            0        2        1   88504.384965    18.885214   \n",
       "1         0            0        0        1  207007.956663     1.991111   \n",
       "2         0            1        6        0  182126.280899    20.171468   \n",
       "3         5            1       10        1  524365.550705    -2.096018   \n",
       "4         3            1        3        1  322048.433990    34.774763   \n",
       "\n",
       "   Mean_square  Mean_LifeSquare  Mean_Diff_square  HouseYearType  \\\n",
       "0    39.768384        21.272841         18.495543            2.0   \n",
       "1    74.017092        46.373920         27.643172            0.0   \n",
       "2    39.768384        21.272841         18.495543            0.0   \n",
       "3    74.017092        46.373920         27.643172            2.0   \n",
       "4    74.017092        46.373920         27.643172            0.0   \n",
       "\n",
       "   FlatFloorType  FloorType  flat_qty_distr  mean_price_dr   mean_price_r  \n",
       "0            2.0        2.0        0.056286  102427.030975  160134.810901  \n",
       "1            1.0        0.0        0.056286  165911.129700  290867.452543  \n",
       "2            1.0        2.0        0.003000  169596.630515  160134.810901  \n",
       "3            2.0        0.0        0.008857  382424.639356  290867.452543  \n",
       "4            2.0        2.0        0.004000  251751.766701  290867.452543  "
      ]
     },
     "execution_count": 103,
     "metadata": {},
     "output_type": "execute_result"
    }
   ],
   "source": [
    "train.head()"
   ]
  },
  {
   "cell_type": "code",
   "execution_count": 104,
   "metadata": {},
   "outputs": [],
   "source": [
    "# train.info()"
   ]
  },
  {
   "cell_type": "code",
   "execution_count": 105,
   "metadata": {},
   "outputs": [],
   "source": [
    "valid = prepare_data(valid, distr_info1, distr_stat_dr, distr_stat_r, mean_price, mean_sqr)\n",
    "# valid = prepare_data(valid, distr_info1, distr_stat_dr, distr_stat_r, mean_price)"
   ]
  },
  {
   "cell_type": "markdown",
   "metadata": {},
   "source": [
    "### Model"
   ]
  },
  {
   "cell_type": "code",
   "execution_count": 106,
   "metadata": {},
   "outputs": [],
   "source": [
    "# train.columns"
   ]
  },
  {
   "cell_type": "code",
   "execution_count": 107,
   "metadata": {},
   "outputs": [],
   "source": [
    "# feats = ['Rooms', 'Square', 'flat_qty_distr', 'mean_price_dr', 'Helthcare_2', 'Healthcare_1', 'HouseYear', 'HouseFloor']\n",
    "# feats = ['HouseYear', 'Rooms', 'Square',  'HouseFloor', 'Floor', 'flat_qty_distr','Shops_1', 'Shops_2', 'Helthcare_2']\n",
    "# feats = ['Shops_2', 'Price']\n",
    "feats = ['FlatFloorType', 'HouseYearType','FloorType', 'Rooms','Square','flat_qty_distr']#, 'LifeSquare']"
   ]
  },
  {
   "cell_type": "code",
   "execution_count": 108,
   "metadata": {},
   "outputs": [],
   "source": [
    "# model = RF(n_estimators=300, max_depth=16, random_state=42, max_features=4, min_samples_leaf=2) 70.7\n",
    "model = RF(n_estimators=300, max_depth=13, random_state=42, max_features=2, min_samples_leaf=1)"
   ]
  },
  {
   "cell_type": "code",
   "execution_count": 109,
   "metadata": {},
   "outputs": [
    {
     "data": {
      "text/plain": [
       "RandomForestRegressor(bootstrap=True, criterion='mse', max_depth=13,\n",
       "           max_features=2, max_leaf_nodes=None, min_impurity_decrease=0.0,\n",
       "           min_impurity_split=None, min_samples_leaf=1,\n",
       "           min_samples_split=2, min_weight_fraction_leaf=0.0,\n",
       "           n_estimators=300, n_jobs=None, oob_score=False, random_state=42,\n",
       "           verbose=0, warm_start=False)"
      ]
     },
     "execution_count": 109,
     "metadata": {},
     "output_type": "execute_result"
    }
   ],
   "source": [
    "model.fit(train.loc[:, feats], train['Price'])"
   ]
  },
  {
   "cell_type": "code",
   "execution_count": 110,
   "metadata": {},
   "outputs": [],
   "source": [
    "pred_train = model.predict(train.loc[:, feats])"
   ]
  },
  {
   "cell_type": "code",
   "execution_count": 111,
   "metadata": {},
   "outputs": [],
   "source": [
    "# pred_train.shape"
   ]
  },
  {
   "cell_type": "code",
   "execution_count": 112,
   "metadata": {},
   "outputs": [],
   "source": [
    "# pred_train"
   ]
  },
  {
   "cell_type": "code",
   "execution_count": 113,
   "metadata": {},
   "outputs": [],
   "source": [
    "pred_valid = model.predict(valid.loc[:, feats])"
   ]
  },
  {
   "cell_type": "code",
   "execution_count": 114,
   "metadata": {},
   "outputs": [],
   "source": [
    "# pred_valid.shape"
   ]
  },
  {
   "cell_type": "code",
   "execution_count": 115,
   "metadata": {},
   "outputs": [],
   "source": [
    "# pred_valid"
   ]
  },
  {
   "cell_type": "markdown",
   "metadata": {},
   "source": [
    "## Find trates"
   ]
  },
  {
   "cell_type": "code",
   "execution_count": null,
   "metadata": {},
   "outputs": [],
   "source": []
  },
  {
   "cell_type": "markdown",
   "metadata": {},
   "source": [
    "### Evaluate model"
   ]
  },
  {
   "cell_type": "code",
   "execution_count": 116,
   "metadata": {},
   "outputs": [
    {
     "data": {
      "text/plain": [
       "0.8792479562430546"
      ]
     },
     "execution_count": 116,
     "metadata": {},
     "output_type": "execute_result"
    }
   ],
   "source": [
    "r2(train['Price'], pred_train)"
   ]
  },
  {
   "cell_type": "code",
   "execution_count": 117,
   "metadata": {
    "scrolled": true
   },
   "outputs": [
    {
     "data": {
      "text/plain": [
       "0.6629315874029599"
      ]
     },
     "execution_count": 117,
     "metadata": {},
     "output_type": "execute_result"
    }
   ],
   "source": [
    "r2(valid['Price'], pred_valid)"
   ]
  },
  {
   "cell_type": "markdown",
   "metadata": {},
   "source": [
    "### Test"
   ]
  },
  {
   "cell_type": "code",
   "execution_count": 118,
   "metadata": {},
   "outputs": [],
   "source": [
    "# ?prepare_data"
   ]
  },
  {
   "cell_type": "code",
   "execution_count": 119,
   "metadata": {},
   "outputs": [],
   "source": [
    "test = pd.read_csv('D:\\Kurs_project_task/test.csv')"
   ]
  },
  {
   "cell_type": "code",
   "execution_count": 120,
   "metadata": {},
   "outputs": [],
   "source": [
    "# test = prepare_data(test, distr_info1, distr_stat_dr, distr_stat_r, mean_price)\n",
    "test = prepare_data(test, distr_info1, distr_stat_dr, distr_stat_r, mean_price, mean_sqr)"
   ]
  },
  {
   "cell_type": "code",
   "execution_count": 121,
   "metadata": {},
   "outputs": [],
   "source": [
    "test['Price'] = model.predict(test.loc[:, feats])"
   ]
  },
  {
   "cell_type": "code",
   "execution_count": 122,
   "metadata": {},
   "outputs": [],
   "source": [
    "test.loc[:, ['Id', 'Price']].to_csv('PSubbotin_predictions.csv', index=None)"
   ]
  },
  {
   "cell_type": "code",
   "execution_count": null,
   "metadata": {},
   "outputs": [],
   "source": []
  }
 ],
 "metadata": {
  "kernelspec": {
   "display_name": "Python 3",
   "language": "python",
   "name": "python3"
  },
  "language_info": {
   "codemirror_mode": {
    "name": "ipython",
    "version": 3
   },
   "file_extension": ".py",
   "mimetype": "text/x-python",
   "name": "python",
   "nbconvert_exporter": "python",
   "pygments_lexer": "ipython3",
   "version": "3.7.1"
  }
 },
 "nbformat": 4,
 "nbformat_minor": 2
}
